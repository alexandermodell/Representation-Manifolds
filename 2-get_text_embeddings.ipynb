{
 "cells": [
  {
   "cell_type": "code",
   "execution_count": 1,
   "id": "e98c30a0",
   "metadata": {},
   "outputs": [],
   "source": [
    "import numpy as np\n",
    "import pandas as pd\n",
    "\n",
    "import os\n",
    "OPENAI_API_KEY = os.getenv(\"OPENAI_API_KEY\")"
   ]
  },
  {
   "cell_type": "code",
   "execution_count": 2,
   "id": "e3421d4d",
   "metadata": {},
   "outputs": [],
   "source": [
    "import openai\n",
    "\n",
    "client = openai.OpenAI(\n",
    "    api_key=OPENAI_API_KEY\n",
    ")\n",
    "\n",
    "def chunker(seq, size):\n",
    "    return (seq[pos:pos + size] for pos in range(0, len(seq), size))\n",
    "\n",
    "def get_embeddings(queries, model, **kwargs):\n",
    "    MAX_BATCH_SIZE = 2048\n",
    "\n",
    "    # replace newlines and truncate to 8190 characters\n",
    "    queries = [q.replace('\\n', ' ') for q in queries]\n",
    "\n",
    "    embeddings_data = []\n",
    "    for chunk in chunker(queries, MAX_BATCH_SIZE):\n",
    "        response = client.embeddings.create(\n",
    "            input=chunk,\n",
    "            model=model,\n",
    "            **kwargs\n",
    "        )\n",
    "        chunk_embeddings = response.data\n",
    "        embeddings_data.extend(chunk_embeddings)\n",
    "\n",
    "    embeddings = pd.DataFrame(\n",
    "        [x.embedding for x in embeddings_data],\n",
    "        index=queries\n",
    "    )\n",
    "\n",
    "    return embeddings"
   ]
  },
  {
   "cell_type": "markdown",
   "id": "ee37d8c1",
   "metadata": {},
   "source": [
    "Makes dates prompts and get embeddings."
   ]
  },
  {
   "cell_type": "code",
   "execution_count": 3,
   "id": "5d254164",
   "metadata": {},
   "outputs": [],
   "source": [
    "months = [\n",
    "    \"January\",\n",
    "    \"February\",\n",
    "    \"March\",\n",
    "    \"April\",\n",
    "    \"May\",\n",
    "    \"June\",\n",
    "    \"July\",\n",
    "    \"August\",\n",
    "    \"September\",\n",
    "    \"October\",\n",
    "    \"November\",\n",
    "    \"December\",\n",
    "]\n",
    "n_days = [31, 27, 31, 30, 31, 30, 31, 31, 30, 31, 30, 31]\n",
    "th_or_st = [\"st\", \"nd\", \"rd\"] + [\"th\"] * 17 + [\"st\", \"nd\", \"rd\"] + [\"th\"] * 7 + [\"st\"]\n",
    "prompts = [f\"{d}{suffix} {m}\" for m, n in zip(months, n_days) for d, suffix in zip(range(1, n+1), th_or_st[:n])]"
   ]
  },
  {
   "cell_type": "code",
   "execution_count": 5,
   "id": "16a7275d",
   "metadata": {},
   "outputs": [],
   "source": [
    "X_dates = get_embeddings(prompts, model=\"text-embedding-3-large\")"
   ]
  },
  {
   "cell_type": "code",
   "execution_count": 6,
   "id": "e8dac7e6",
   "metadata": {},
   "outputs": [],
   "source": [
    "X_dates.to_csv(\n",
    "    \"representations/dates_reprs.csv\",\n",
    "    index=False,\n",
    "    header=False,\n",
    ")"
   ]
  },
  {
   "cell_type": "code",
   "execution_count": 7,
   "id": "eee528e4",
   "metadata": {},
   "outputs": [],
   "source": [
    "# save labels\n",
    "\n",
    "pd.DataFrame({\n",
    "    \"label\": prompts\n",
    "}).to_csv(\n",
    "    \"representations/dates_labels.csv\",\n",
    "    index=False,\n",
    "    header=False,\n",
    ")"
   ]
  },
  {
   "cell_type": "markdown",
   "id": "aa9e69ed",
   "metadata": {},
   "source": [
    "Make colour prompts and get embeddings."
   ]
  },
  {
   "cell_type": "code",
   "execution_count": 48,
   "id": "42a267f7",
   "metadata": {},
   "outputs": [],
   "source": [
    "# get colour names and hex codes from XKCD survey\n",
    "f = \"https://xkcd.com/color/rgb.txt\"\n",
    "df = pd.read_csv(f, skiprows=1, delimiter=\"\\t\", names=[\"name\", \"hex\"], index_col=0, usecols=[0,1])"
   ]
  },
  {
   "cell_type": "code",
   "execution_count": 49,
   "id": "ee3fa192",
   "metadata": {},
   "outputs": [],
   "source": [
    "colors = np.array(list(df.index))\n",
    "prompts = [f\"The color of the object is {color}. What color is the object?\" for color in colors]"
   ]
  },
  {
   "cell_type": "code",
   "execution_count": 22,
   "id": "94dfd75d",
   "metadata": {},
   "outputs": [],
   "source": [
    "X_colours = get_embeddings(prompts, model=\"text-embedding-3-large\")"
   ]
  },
  {
   "cell_type": "code",
   "execution_count": 50,
   "id": "cdf02751",
   "metadata": {},
   "outputs": [],
   "source": [
    "X_colours.to_csv(\n",
    "    \"representations/colours_reprs.csv\",\n",
    "    index=False,\n",
    "    header=False,\n",
    ")"
   ]
  },
  {
   "cell_type": "code",
   "execution_count": 51,
   "id": "92b83f9f",
   "metadata": {},
   "outputs": [],
   "source": [
    "# save labels\n",
    "\n",
    "pd.DataFrame({\n",
    "    \"label\": colors,\n",
    "}).to_csv(\n",
    "    \"representations/colours_labels.csv\",\n",
    "    index=False\n",
    ")"
   ]
  }
 ],
 "metadata": {
  "kernelspec": {
   "display_name": "RepresentationManifolds",
   "language": "python",
   "name": "python3"
  },
  "language_info": {
   "codemirror_mode": {
    "name": "ipython",
    "version": 3
   },
   "file_extension": ".py",
   "mimetype": "text/x-python",
   "name": "python",
   "nbconvert_exporter": "python",
   "pygments_lexer": "ipython3",
   "version": "3.11.9"
  }
 },
 "nbformat": 4,
 "nbformat_minor": 5
}
